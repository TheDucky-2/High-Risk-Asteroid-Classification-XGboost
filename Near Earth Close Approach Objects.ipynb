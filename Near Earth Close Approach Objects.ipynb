{
 "cells": [
  {
   "metadata": {},
   "cell_type": "markdown",
   "source": "# **Near-Earth Close Approach Objects Analysis and Model Training(XGBoost)**",
   "id": "b14b00fe01f5d56f"
  },
  {
   "cell_type": "code",
   "id": "initial_id",
   "metadata": {
    "collapsed": true,
    "ExecuteTime": {
     "end_time": "2025-06-30T20:37:12.338426Z",
     "start_time": "2025-06-30T20:37:05.946198Z"
    }
   },
   "source": [
    "### Step-By-Step Process\n",
    "\n",
    "### STEP 1: Importing the modules\n",
    "\n",
    "import pandas as pd\n",
    "from sklearn.model_selection import train_test_split\n",
    "from sklearn.metrics import recall_score, f1_score, accuracy_score, precision_score\n",
    "from sklearn.metrics import confusion_matrix\n",
    "from sklearn.model_selection import GridSearchCV\n",
    "from xgboost import XGBClassifier\n",
    "import seaborn as sns\n",
    "import matplotlib.pyplot as plt\n",
    "\n",
    "### STEP 2: LOADING the DATA\n",
    "\n",
    "space_data_v1 = pd.read_csv(r'D:\\Pycharm Projects\\PycharmProjects\\PythonProject\\Full Data Pipeline Projects\\Near Earth Objects\\Hazardous Asteroid Classification XGBoost\\Data\\Raw Data\\Space.csv')                  # Loading and Reading our csv file using pandas.\n"
   ],
   "outputs": [],
   "execution_count": 1
  },
  {
   "metadata": {
    "ExecuteTime": {
     "end_time": "2025-06-29T20:04:40.822314Z",
     "start_time": "2025-06-29T20:04:40.698543Z"
    }
   },
   "cell_type": "code",
   "source": [
    "### STEP 3: EXPLORING THE DATA\n",
    "\n",
    "space_data_v1.head()"
   ],
   "id": "46d01d36c537b70a",
   "outputs": [
    {
     "data": {
      "text/plain": [
       "    neo_id                name  absolute_magnitude  estimated_diameter_min  \\\n",
       "0  2162117  162117 (1998 SD15)               19.14                0.394962   \n",
       "1  2349507    349507 (2008 QY)               18.50                0.530341   \n",
       "2  2455415    455415 (2003 GA)               21.45                0.136319   \n",
       "3  3132126           (2002 PB)               20.63                0.198863   \n",
       "4  3557844           (2011 DW)               22.70                0.076658   \n",
       "\n",
       "   estimated_diameter_max orbiting_body  relative_velocity  miss_distance  \\\n",
       "0                0.883161         Earth       71745.401048   5.814362e+07   \n",
       "1                1.185878         Earth      109949.757148   5.580105e+07   \n",
       "2                0.304818         Earth       24865.506798   6.720689e+07   \n",
       "3                0.444672         Earth       78890.076805   3.039644e+07   \n",
       "4                0.171412         Earth       56036.519484   6.311863e+07   \n",
       "\n",
       "   is_hazardous  \n",
       "0         False  \n",
       "1          True  \n",
       "2         False  \n",
       "3         False  \n",
       "4         False  "
      ],
      "text/html": [
       "<div>\n",
       "<style scoped>\n",
       "    .dataframe tbody tr th:only-of-type {\n",
       "        vertical-align: middle;\n",
       "    }\n",
       "\n",
       "    .dataframe tbody tr th {\n",
       "        vertical-align: top;\n",
       "    }\n",
       "\n",
       "    .dataframe thead th {\n",
       "        text-align: right;\n",
       "    }\n",
       "</style>\n",
       "<table border=\"1\" class=\"dataframe\">\n",
       "  <thead>\n",
       "    <tr style=\"text-align: right;\">\n",
       "      <th></th>\n",
       "      <th>neo_id</th>\n",
       "      <th>name</th>\n",
       "      <th>absolute_magnitude</th>\n",
       "      <th>estimated_diameter_min</th>\n",
       "      <th>estimated_diameter_max</th>\n",
       "      <th>orbiting_body</th>\n",
       "      <th>relative_velocity</th>\n",
       "      <th>miss_distance</th>\n",
       "      <th>is_hazardous</th>\n",
       "    </tr>\n",
       "  </thead>\n",
       "  <tbody>\n",
       "    <tr>\n",
       "      <th>0</th>\n",
       "      <td>2162117</td>\n",
       "      <td>162117 (1998 SD15)</td>\n",
       "      <td>19.14</td>\n",
       "      <td>0.394962</td>\n",
       "      <td>0.883161</td>\n",
       "      <td>Earth</td>\n",
       "      <td>71745.401048</td>\n",
       "      <td>5.814362e+07</td>\n",
       "      <td>False</td>\n",
       "    </tr>\n",
       "    <tr>\n",
       "      <th>1</th>\n",
       "      <td>2349507</td>\n",
       "      <td>349507 (2008 QY)</td>\n",
       "      <td>18.50</td>\n",
       "      <td>0.530341</td>\n",
       "      <td>1.185878</td>\n",
       "      <td>Earth</td>\n",
       "      <td>109949.757148</td>\n",
       "      <td>5.580105e+07</td>\n",
       "      <td>True</td>\n",
       "    </tr>\n",
       "    <tr>\n",
       "      <th>2</th>\n",
       "      <td>2455415</td>\n",
       "      <td>455415 (2003 GA)</td>\n",
       "      <td>21.45</td>\n",
       "      <td>0.136319</td>\n",
       "      <td>0.304818</td>\n",
       "      <td>Earth</td>\n",
       "      <td>24865.506798</td>\n",
       "      <td>6.720689e+07</td>\n",
       "      <td>False</td>\n",
       "    </tr>\n",
       "    <tr>\n",
       "      <th>3</th>\n",
       "      <td>3132126</td>\n",
       "      <td>(2002 PB)</td>\n",
       "      <td>20.63</td>\n",
       "      <td>0.198863</td>\n",
       "      <td>0.444672</td>\n",
       "      <td>Earth</td>\n",
       "      <td>78890.076805</td>\n",
       "      <td>3.039644e+07</td>\n",
       "      <td>False</td>\n",
       "    </tr>\n",
       "    <tr>\n",
       "      <th>4</th>\n",
       "      <td>3557844</td>\n",
       "      <td>(2011 DW)</td>\n",
       "      <td>22.70</td>\n",
       "      <td>0.076658</td>\n",
       "      <td>0.171412</td>\n",
       "      <td>Earth</td>\n",
       "      <td>56036.519484</td>\n",
       "      <td>6.311863e+07</td>\n",
       "      <td>False</td>\n",
       "    </tr>\n",
       "  </tbody>\n",
       "</table>\n",
       "</div>"
      ]
     },
     "execution_count": 31,
     "metadata": {},
     "output_type": "execute_result"
    }
   ],
   "execution_count": 31
  },
  {
   "metadata": {
    "ExecuteTime": {
     "end_time": "2025-06-29T20:04:45.100118Z",
     "start_time": "2025-06-29T20:04:44.706892Z"
    }
   },
   "cell_type": "code",
   "source": "space_data_v1.describe()                # Understanding the Data.",
   "id": "fa12c0d954e1bc8",
   "outputs": [
    {
     "data": {
      "text/plain": [
       "             neo_id  absolute_magnitude  estimated_diameter_min  \\\n",
       "count  3.381990e+05       338171.000000           338171.000000   \n",
       "mean   1.759939e+07           22.932525                0.157812   \n",
       "std    2.287225e+07            2.911216                0.313885   \n",
       "min    2.000433e+06            9.250000                0.000511   \n",
       "25%    3.373980e+06           20.740000                0.025384   \n",
       "50%    3.742127e+06           22.800000                0.073207   \n",
       "75%    5.405374e+07           25.100000                0.189041   \n",
       "max    5.446281e+07           33.580000               37.545248   \n",
       "\n",
       "       estimated_diameter_max  relative_velocity  miss_distance  \n",
       "count           338171.000000      338199.000000   3.381990e+05  \n",
       "mean                 0.352878       51060.662908   4.153535e+07  \n",
       "std                  0.701869       26399.238435   2.077399e+07  \n",
       "min                  0.001143         203.346433   6.745533e+03  \n",
       "25%                  0.056760       30712.031471   2.494540e+07  \n",
       "50%                  0.163697       47560.465474   4.332674e+07  \n",
       "75%                  0.422708       66673.820614   5.933961e+07  \n",
       "max                 83.953727      291781.106613   7.479865e+07  "
      ],
      "text/html": [
       "<div>\n",
       "<style scoped>\n",
       "    .dataframe tbody tr th:only-of-type {\n",
       "        vertical-align: middle;\n",
       "    }\n",
       "\n",
       "    .dataframe tbody tr th {\n",
       "        vertical-align: top;\n",
       "    }\n",
       "\n",
       "    .dataframe thead th {\n",
       "        text-align: right;\n",
       "    }\n",
       "</style>\n",
       "<table border=\"1\" class=\"dataframe\">\n",
       "  <thead>\n",
       "    <tr style=\"text-align: right;\">\n",
       "      <th></th>\n",
       "      <th>neo_id</th>\n",
       "      <th>absolute_magnitude</th>\n",
       "      <th>estimated_diameter_min</th>\n",
       "      <th>estimated_diameter_max</th>\n",
       "      <th>relative_velocity</th>\n",
       "      <th>miss_distance</th>\n",
       "    </tr>\n",
       "  </thead>\n",
       "  <tbody>\n",
       "    <tr>\n",
       "      <th>count</th>\n",
       "      <td>3.381990e+05</td>\n",
       "      <td>338171.000000</td>\n",
       "      <td>338171.000000</td>\n",
       "      <td>338171.000000</td>\n",
       "      <td>338199.000000</td>\n",
       "      <td>3.381990e+05</td>\n",
       "    </tr>\n",
       "    <tr>\n",
       "      <th>mean</th>\n",
       "      <td>1.759939e+07</td>\n",
       "      <td>22.932525</td>\n",
       "      <td>0.157812</td>\n",
       "      <td>0.352878</td>\n",
       "      <td>51060.662908</td>\n",
       "      <td>4.153535e+07</td>\n",
       "    </tr>\n",
       "    <tr>\n",
       "      <th>std</th>\n",
       "      <td>2.287225e+07</td>\n",
       "      <td>2.911216</td>\n",
       "      <td>0.313885</td>\n",
       "      <td>0.701869</td>\n",
       "      <td>26399.238435</td>\n",
       "      <td>2.077399e+07</td>\n",
       "    </tr>\n",
       "    <tr>\n",
       "      <th>min</th>\n",
       "      <td>2.000433e+06</td>\n",
       "      <td>9.250000</td>\n",
       "      <td>0.000511</td>\n",
       "      <td>0.001143</td>\n",
       "      <td>203.346433</td>\n",
       "      <td>6.745533e+03</td>\n",
       "    </tr>\n",
       "    <tr>\n",
       "      <th>25%</th>\n",
       "      <td>3.373980e+06</td>\n",
       "      <td>20.740000</td>\n",
       "      <td>0.025384</td>\n",
       "      <td>0.056760</td>\n",
       "      <td>30712.031471</td>\n",
       "      <td>2.494540e+07</td>\n",
       "    </tr>\n",
       "    <tr>\n",
       "      <th>50%</th>\n",
       "      <td>3.742127e+06</td>\n",
       "      <td>22.800000</td>\n",
       "      <td>0.073207</td>\n",
       "      <td>0.163697</td>\n",
       "      <td>47560.465474</td>\n",
       "      <td>4.332674e+07</td>\n",
       "    </tr>\n",
       "    <tr>\n",
       "      <th>75%</th>\n",
       "      <td>5.405374e+07</td>\n",
       "      <td>25.100000</td>\n",
       "      <td>0.189041</td>\n",
       "      <td>0.422708</td>\n",
       "      <td>66673.820614</td>\n",
       "      <td>5.933961e+07</td>\n",
       "    </tr>\n",
       "    <tr>\n",
       "      <th>max</th>\n",
       "      <td>5.446281e+07</td>\n",
       "      <td>33.580000</td>\n",
       "      <td>37.545248</td>\n",
       "      <td>83.953727</td>\n",
       "      <td>291781.106613</td>\n",
       "      <td>7.479865e+07</td>\n",
       "    </tr>\n",
       "  </tbody>\n",
       "</table>\n",
       "</div>"
      ]
     },
     "execution_count": 32,
     "metadata": {},
     "output_type": "execute_result"
    }
   ],
   "execution_count": 32
  },
  {
   "metadata": {
    "ExecuteTime": {
     "end_time": "2025-06-29T20:04:48.024830Z",
     "start_time": "2025-06-29T20:04:47.902334Z"
    }
   },
   "cell_type": "code",
   "source": "space_data_v1.info()      # Checking the information like data types, null values, and size of the dataframe.",
   "id": "be1efa3cfedf07ab",
   "outputs": [
    {
     "name": "stdout",
     "output_type": "stream",
     "text": [
      "<class 'pandas.core.frame.DataFrame'>\n",
      "RangeIndex: 338199 entries, 0 to 338198\n",
      "Data columns (total 9 columns):\n",
      " #   Column                  Non-Null Count   Dtype  \n",
      "---  ------                  --------------   -----  \n",
      " 0   neo_id                  338199 non-null  int64  \n",
      " 1   name                    338199 non-null  object \n",
      " 2   absolute_magnitude      338171 non-null  float64\n",
      " 3   estimated_diameter_min  338171 non-null  float64\n",
      " 4   estimated_diameter_max  338171 non-null  float64\n",
      " 5   orbiting_body           338199 non-null  object \n",
      " 6   relative_velocity       338199 non-null  float64\n",
      " 7   miss_distance           338199 non-null  float64\n",
      " 8   is_hazardous            338199 non-null  bool   \n",
      "dtypes: bool(1), float64(5), int64(1), object(2)\n",
      "memory usage: 21.0+ MB\n"
     ]
    }
   ],
   "execution_count": 33
  },
  {
   "metadata": {
    "ExecuteTime": {
     "end_time": "2025-06-29T20:04:50.618948Z",
     "start_time": "2025-06-29T20:04:50.529783Z"
    }
   },
   "cell_type": "code",
   "source": "space_data_v1.isnull().sum()",
   "id": "8afae0992827714d",
   "outputs": [
    {
     "data": {
      "text/plain": [
       "neo_id                     0\n",
       "name                       0\n",
       "absolute_magnitude        28\n",
       "estimated_diameter_min    28\n",
       "estimated_diameter_max    28\n",
       "orbiting_body              0\n",
       "relative_velocity          0\n",
       "miss_distance              0\n",
       "is_hazardous               0\n",
       "dtype: int64"
      ]
     },
     "execution_count": 34,
     "metadata": {},
     "output_type": "execute_result"
    }
   ],
   "execution_count": 34
  },
  {
   "metadata": {},
   "cell_type": "markdown",
   "source": [
    "*As we can observe, our data has 28 rows where the data is either missing or has NaN (NULL values).\n",
    "\n",
    "We can either drop those rows or we can fill those up with values.\n",
    "\n",
    "If we wish to drop the rows, we can use **space_data_v1.dropna()**, however, since looking at the criticality of the risk and also ensuring we don't miss out any potentially hazardous asteroids, we can do **space_data_v1.interpolate()**, which will fill out the missing rows with data in logical order, rather than filling it with the average values.\n",
    "\n",
    "Example, let's say we have data in this manner:\n",
    "\n",
    "data = **[10, NaN, 30, NaN, 50]**\n",
    "\n",
    "where NaN = None or Missing data.\n",
    "\n",
    "Logically, the order should be [10, 20, 30, 40, 50].\n",
    "\n",
    "So, **dataframe.interpolate()** replaces NaN with values like 20, and 40.\n",
    "\n",
    "**[10, NaN, 30, NaN, 50]** becomes **[10, 20, 30, 40, 50]**"
   ],
   "id": "39a1d9a3e559ae0e"
  },
  {
   "metadata": {
    "ExecuteTime": {
     "end_time": "2025-06-29T20:04:53.793266Z",
     "start_time": "2025-06-29T20:04:53.509792Z"
    }
   },
   "cell_type": "code",
   "source": [
    "### STEP 4: Cleaning the DATA\n",
    "\n",
    "space_data_v1['absolute_magnitude'] = space_data_v1['absolute_magnitude'].interpolate()\n",
    "\n",
    "space_data_v1['estimated_diameter_min'] = space_data_v1['estimated_diameter_min'].interpolate()\n",
    "space_data_v1['estimated_diameter_max'] = space_data_v1['estimated_diameter_max'].interpolate()\n",
    "\n",
    "print(space_data_v1.isnull().sum())"
   ],
   "id": "2fa8d93ad778e3bb",
   "outputs": [
    {
     "name": "stdout",
     "output_type": "stream",
     "text": [
      "neo_id                    0\n",
      "name                      0\n",
      "absolute_magnitude        0\n",
      "estimated_diameter_min    0\n",
      "estimated_diameter_max    0\n",
      "orbiting_body             0\n",
      "relative_velocity         0\n",
      "miss_distance             0\n",
      "is_hazardous              0\n",
      "dtype: int64\n"
     ]
    }
   ],
   "execution_count": 35
  },
  {
   "metadata": {
    "ExecuteTime": {
     "end_time": "2025-06-29T20:04:56.737323Z",
     "start_time": "2025-06-29T20:04:56.691114Z"
    }
   },
   "cell_type": "code",
   "source": [
    "### STEP 5: FEATURE ENGINEERING\n",
    "\n",
    "space_data_v1[\"orbiting_body\"] = 1                                  # Encoding the column's value from \"Earth\" to 1 (also called one-hot encoding)\n",
    "\n",
    "X = space_data_v1.drop(columns = [\"neo_id\", \"name\", \"is_hazardous\"])\n",
    "\n",
    "# (X), This is going to be our training data, and we've dropped the columns neo_id, name, is_hazardous(the target).\n",
    "\n",
    "#print(training_data)\n",
    "\n",
    "y = space_data_v1['is_hazardous'].astype(int)\n",
    "\n",
    "# (y), This is what the model will attempt to predict. Also, note that the column has been converted to type(int) - 0 or 1 from boolean - true(0) or false(1)."
   ],
   "id": "2f1848684dff8d1a",
   "outputs": [],
   "execution_count": 36
  },
  {
   "metadata": {
    "ExecuteTime": {
     "end_time": "2025-06-29T20:06:54.620433Z",
     "start_time": "2025-06-29T20:05:00.555687Z"
    }
   },
   "cell_type": "code",
   "source": [
    "hazardous_count = y.sum()                                #  Counting hazardous asteroids where \"is_hazardous\" = True\n",
    "\n",
    "non_hazardous_count = len(y) - hazardous_count           # Counting the total non-hazardous asteroids\n",
    "\n",
    "scale_pos_weight = non_hazardous_count / hazardous_count  # This is extremely important, as it allows us to give more importance to hazardous asteroids as compared to non-hazardous\n",
    "# Splitting the data into training and testing data sets.\n",
    "\n",
    "X_train, X_test, y_train, y_test = train_test_split(X, y, test_size=0.25, random_state=3) # Random state can be any random number, it doesn't matter.\n",
    "#print(target_data)\n",
    "\n",
    "param_grid = {\n",
    "  'max_depth': [3, 5, 7],\n",
    "  'learning_rate': [0.01, 0.1, 0.2],\n",
    "  'n_estimators':[100, 200],\n",
    "  'scale_pos_weight':[1, scale_pos_weight]\n",
    "}\n",
    "\n",
    "grid_search = GridSearchCV(estimator=XGBClassifier(), param_grid=param_grid, scoring='f1', cv=3, n_jobs=1, verbose=2 )\n",
    "\n",
    "grid_search.fit(X_train, y_train)\n",
    "\n",
    "y_pred = grid_search.predict(X_test)\n",
    "\n",
    "accuracy = accuracy_score(y_test, y_pred)\n",
    "\n",
    "recall = recall_score(y_test, y_pred)\n",
    "\n",
    "f1 = f1_score(y_test, y_pred)\n",
    "\n",
    "print(f\"Accuracy of the model is: {accuracy:.3f}\")\n",
    "print(f\"Recall score is : {recall:.2%}\")\n",
    "print(f\"F1-score is : {f1:.3f}\")"
   ],
   "id": "67b59811f1e1a925",
   "outputs": [
    {
     "name": "stdout",
     "output_type": "stream",
     "text": [
      "Fitting 3 folds for each of 36 candidates, totalling 108 fits\n",
      "[CV] END learning_rate=0.01, max_depth=3, n_estimators=100, scale_pos_weight=1; total time=   1.0s\n",
      "[CV] END learning_rate=0.01, max_depth=3, n_estimators=100, scale_pos_weight=1; total time=   0.6s\n",
      "[CV] END learning_rate=0.01, max_depth=3, n_estimators=100, scale_pos_weight=1; total time=   0.5s\n",
      "[CV] END learning_rate=0.01, max_depth=3, n_estimators=100, scale_pos_weight=6.835572957694268; total time=   0.5s\n",
      "[CV] END learning_rate=0.01, max_depth=3, n_estimators=100, scale_pos_weight=6.835572957694268; total time=   0.4s\n",
      "[CV] END learning_rate=0.01, max_depth=3, n_estimators=100, scale_pos_weight=6.835572957694268; total time=   0.5s\n",
      "[CV] END learning_rate=0.01, max_depth=3, n_estimators=200, scale_pos_weight=1; total time=   1.0s\n",
      "[CV] END learning_rate=0.01, max_depth=3, n_estimators=200, scale_pos_weight=1; total time=   0.9s\n",
      "[CV] END learning_rate=0.01, max_depth=3, n_estimators=200, scale_pos_weight=1; total time=   0.9s\n",
      "[CV] END learning_rate=0.01, max_depth=3, n_estimators=200, scale_pos_weight=6.835572957694268; total time=   0.9s\n",
      "[CV] END learning_rate=0.01, max_depth=3, n_estimators=200, scale_pos_weight=6.835572957694268; total time=   0.8s\n",
      "[CV] END learning_rate=0.01, max_depth=3, n_estimators=200, scale_pos_weight=6.835572957694268; total time=   0.8s\n",
      "[CV] END learning_rate=0.01, max_depth=5, n_estimators=100, scale_pos_weight=1; total time=   0.6s\n",
      "[CV] END learning_rate=0.01, max_depth=5, n_estimators=100, scale_pos_weight=1; total time=   0.6s\n",
      "[CV] END learning_rate=0.01, max_depth=5, n_estimators=100, scale_pos_weight=1; total time=   0.8s\n",
      "[CV] END learning_rate=0.01, max_depth=5, n_estimators=100, scale_pos_weight=6.835572957694268; total time=   0.7s\n",
      "[CV] END learning_rate=0.01, max_depth=5, n_estimators=100, scale_pos_weight=6.835572957694268; total time=   0.7s\n",
      "[CV] END learning_rate=0.01, max_depth=5, n_estimators=100, scale_pos_weight=6.835572957694268; total time=   0.6s\n",
      "[CV] END learning_rate=0.01, max_depth=5, n_estimators=200, scale_pos_weight=1; total time=   1.3s\n",
      "[CV] END learning_rate=0.01, max_depth=5, n_estimators=200, scale_pos_weight=1; total time=   1.2s\n",
      "[CV] END learning_rate=0.01, max_depth=5, n_estimators=200, scale_pos_weight=1; total time=   1.1s\n",
      "[CV] END learning_rate=0.01, max_depth=5, n_estimators=200, scale_pos_weight=6.835572957694268; total time=   1.7s\n",
      "[CV] END learning_rate=0.01, max_depth=5, n_estimators=200, scale_pos_weight=6.835572957694268; total time=   1.8s\n",
      "[CV] END learning_rate=0.01, max_depth=5, n_estimators=200, scale_pos_weight=6.835572957694268; total time=   2.1s\n",
      "[CV] END learning_rate=0.01, max_depth=7, n_estimators=100, scale_pos_weight=1; total time=   1.0s\n",
      "[CV] END learning_rate=0.01, max_depth=7, n_estimators=100, scale_pos_weight=1; total time=   1.5s\n",
      "[CV] END learning_rate=0.01, max_depth=7, n_estimators=100, scale_pos_weight=1; total time=   1.6s\n",
      "[CV] END learning_rate=0.01, max_depth=7, n_estimators=100, scale_pos_weight=6.835572957694268; total time=   1.6s\n",
      "[CV] END learning_rate=0.01, max_depth=7, n_estimators=100, scale_pos_weight=6.835572957694268; total time=   1.1s\n",
      "[CV] END learning_rate=0.01, max_depth=7, n_estimators=100, scale_pos_weight=6.835572957694268; total time=   1.3s\n",
      "[CV] END learning_rate=0.01, max_depth=7, n_estimators=200, scale_pos_weight=1; total time=   1.8s\n",
      "[CV] END learning_rate=0.01, max_depth=7, n_estimators=200, scale_pos_weight=1; total time=   1.6s\n",
      "[CV] END learning_rate=0.01, max_depth=7, n_estimators=200, scale_pos_weight=1; total time=   1.6s\n",
      "[CV] END learning_rate=0.01, max_depth=7, n_estimators=200, scale_pos_weight=6.835572957694268; total time=   1.4s\n",
      "[CV] END learning_rate=0.01, max_depth=7, n_estimators=200, scale_pos_weight=6.835572957694268; total time=   1.5s\n",
      "[CV] END learning_rate=0.01, max_depth=7, n_estimators=200, scale_pos_weight=6.835572957694268; total time=   1.5s\n",
      "[CV] END learning_rate=0.1, max_depth=3, n_estimators=100, scale_pos_weight=1; total time=   0.4s\n",
      "[CV] END learning_rate=0.1, max_depth=3, n_estimators=100, scale_pos_weight=1; total time=   0.4s\n",
      "[CV] END learning_rate=0.1, max_depth=3, n_estimators=100, scale_pos_weight=1; total time=   0.4s\n",
      "[CV] END learning_rate=0.1, max_depth=3, n_estimators=100, scale_pos_weight=6.835572957694268; total time=   0.4s\n",
      "[CV] END learning_rate=0.1, max_depth=3, n_estimators=100, scale_pos_weight=6.835572957694268; total time=   0.4s\n",
      "[CV] END learning_rate=0.1, max_depth=3, n_estimators=100, scale_pos_weight=6.835572957694268; total time=   0.4s\n",
      "[CV] END learning_rate=0.1, max_depth=3, n_estimators=200, scale_pos_weight=1; total time=   0.7s\n",
      "[CV] END learning_rate=0.1, max_depth=3, n_estimators=200, scale_pos_weight=1; total time=   0.8s\n",
      "[CV] END learning_rate=0.1, max_depth=3, n_estimators=200, scale_pos_weight=1; total time=   0.8s\n",
      "[CV] END learning_rate=0.1, max_depth=3, n_estimators=200, scale_pos_weight=6.835572957694268; total time=   0.8s\n",
      "[CV] END learning_rate=0.1, max_depth=3, n_estimators=200, scale_pos_weight=6.835572957694268; total time=   0.8s\n",
      "[CV] END learning_rate=0.1, max_depth=3, n_estimators=200, scale_pos_weight=6.835572957694268; total time=   0.9s\n",
      "[CV] END learning_rate=0.1, max_depth=5, n_estimators=100, scale_pos_weight=1; total time=   0.5s\n",
      "[CV] END learning_rate=0.1, max_depth=5, n_estimators=100, scale_pos_weight=1; total time=   0.7s\n",
      "[CV] END learning_rate=0.1, max_depth=5, n_estimators=100, scale_pos_weight=1; total time=   0.7s\n",
      "[CV] END learning_rate=0.1, max_depth=5, n_estimators=100, scale_pos_weight=6.835572957694268; total time=   0.5s\n",
      "[CV] END learning_rate=0.1, max_depth=5, n_estimators=100, scale_pos_weight=6.835572957694268; total time=   0.5s\n",
      "[CV] END learning_rate=0.1, max_depth=5, n_estimators=100, scale_pos_weight=6.835572957694268; total time=   0.5s\n",
      "[CV] END learning_rate=0.1, max_depth=5, n_estimators=200, scale_pos_weight=1; total time=   1.0s\n",
      "[CV] END learning_rate=0.1, max_depth=5, n_estimators=200, scale_pos_weight=1; total time=   0.9s\n",
      "[CV] END learning_rate=0.1, max_depth=5, n_estimators=200, scale_pos_weight=1; total time=   1.1s\n",
      "[CV] END learning_rate=0.1, max_depth=5, n_estimators=200, scale_pos_weight=6.835572957694268; total time=   1.0s\n",
      "[CV] END learning_rate=0.1, max_depth=5, n_estimators=200, scale_pos_weight=6.835572957694268; total time=   1.0s\n",
      "[CV] END learning_rate=0.1, max_depth=5, n_estimators=200, scale_pos_weight=6.835572957694268; total time=   1.1s\n",
      "[CV] END learning_rate=0.1, max_depth=7, n_estimators=100, scale_pos_weight=1; total time=   0.6s\n",
      "[CV] END learning_rate=0.1, max_depth=7, n_estimators=100, scale_pos_weight=1; total time=   0.6s\n",
      "[CV] END learning_rate=0.1, max_depth=7, n_estimators=100, scale_pos_weight=1; total time=   0.7s\n",
      "[CV] END learning_rate=0.1, max_depth=7, n_estimators=100, scale_pos_weight=6.835572957694268; total time=   0.7s\n",
      "[CV] END learning_rate=0.1, max_depth=7, n_estimators=100, scale_pos_weight=6.835572957694268; total time=   0.7s\n",
      "[CV] END learning_rate=0.1, max_depth=7, n_estimators=100, scale_pos_weight=6.835572957694268; total time=   0.6s\n",
      "[CV] END learning_rate=0.1, max_depth=7, n_estimators=200, scale_pos_weight=1; total time=   1.3s\n",
      "[CV] END learning_rate=0.1, max_depth=7, n_estimators=200, scale_pos_weight=1; total time=   1.5s\n",
      "[CV] END learning_rate=0.1, max_depth=7, n_estimators=200, scale_pos_weight=1; total time=   1.4s\n",
      "[CV] END learning_rate=0.1, max_depth=7, n_estimators=200, scale_pos_weight=6.835572957694268; total time=   1.4s\n",
      "[CV] END learning_rate=0.1, max_depth=7, n_estimators=200, scale_pos_weight=6.835572957694268; total time=   1.6s\n",
      "[CV] END learning_rate=0.1, max_depth=7, n_estimators=200, scale_pos_weight=6.835572957694268; total time=   1.6s\n",
      "[CV] END learning_rate=0.2, max_depth=3, n_estimators=100, scale_pos_weight=1; total time=   0.4s\n",
      "[CV] END learning_rate=0.2, max_depth=3, n_estimators=100, scale_pos_weight=1; total time=   0.4s\n",
      "[CV] END learning_rate=0.2, max_depth=3, n_estimators=100, scale_pos_weight=1; total time=   0.4s\n",
      "[CV] END learning_rate=0.2, max_depth=3, n_estimators=100, scale_pos_weight=6.835572957694268; total time=   0.6s\n",
      "[CV] END learning_rate=0.2, max_depth=3, n_estimators=100, scale_pos_weight=6.835572957694268; total time=   0.5s\n",
      "[CV] END learning_rate=0.2, max_depth=3, n_estimators=100, scale_pos_weight=6.835572957694268; total time=   0.5s\n",
      "[CV] END learning_rate=0.2, max_depth=3, n_estimators=200, scale_pos_weight=1; total time=   0.8s\n",
      "[CV] END learning_rate=0.2, max_depth=3, n_estimators=200, scale_pos_weight=1; total time=   0.8s\n",
      "[CV] END learning_rate=0.2, max_depth=3, n_estimators=200, scale_pos_weight=1; total time=   1.2s\n",
      "[CV] END learning_rate=0.2, max_depth=3, n_estimators=200, scale_pos_weight=6.835572957694268; total time=   0.7s\n",
      "[CV] END learning_rate=0.2, max_depth=3, n_estimators=200, scale_pos_weight=6.835572957694268; total time=   0.7s\n",
      "[CV] END learning_rate=0.2, max_depth=3, n_estimators=200, scale_pos_weight=6.835572957694268; total time=   0.7s\n",
      "[CV] END learning_rate=0.2, max_depth=5, n_estimators=100, scale_pos_weight=1; total time=   0.7s\n",
      "[CV] END learning_rate=0.2, max_depth=5, n_estimators=100, scale_pos_weight=1; total time=   0.5s\n",
      "[CV] END learning_rate=0.2, max_depth=5, n_estimators=100, scale_pos_weight=1; total time=   0.5s\n",
      "[CV] END learning_rate=0.2, max_depth=5, n_estimators=100, scale_pos_weight=6.835572957694268; total time=   0.7s\n",
      "[CV] END learning_rate=0.2, max_depth=5, n_estimators=100, scale_pos_weight=6.835572957694268; total time=   0.6s\n",
      "[CV] END learning_rate=0.2, max_depth=5, n_estimators=100, scale_pos_weight=6.835572957694268; total time=   0.5s\n",
      "[CV] END learning_rate=0.2, max_depth=5, n_estimators=200, scale_pos_weight=1; total time=   1.1s\n",
      "[CV] END learning_rate=0.2, max_depth=5, n_estimators=200, scale_pos_weight=1; total time=   1.4s\n",
      "[CV] END learning_rate=0.2, max_depth=5, n_estimators=200, scale_pos_weight=1; total time=   1.1s\n",
      "[CV] END learning_rate=0.2, max_depth=5, n_estimators=200, scale_pos_weight=6.835572957694268; total time=   1.2s\n",
      "[CV] END learning_rate=0.2, max_depth=5, n_estimators=200, scale_pos_weight=6.835572957694268; total time=   1.4s\n",
      "[CV] END learning_rate=0.2, max_depth=5, n_estimators=200, scale_pos_weight=6.835572957694268; total time=   1.3s\n",
      "[CV] END learning_rate=0.2, max_depth=7, n_estimators=100, scale_pos_weight=1; total time=   1.0s\n",
      "[CV] END learning_rate=0.2, max_depth=7, n_estimators=100, scale_pos_weight=1; total time=   0.7s\n",
      "[CV] END learning_rate=0.2, max_depth=7, n_estimators=100, scale_pos_weight=1; total time=   0.7s\n",
      "[CV] END learning_rate=0.2, max_depth=7, n_estimators=100, scale_pos_weight=6.835572957694268; total time=   0.6s\n",
      "[CV] END learning_rate=0.2, max_depth=7, n_estimators=100, scale_pos_weight=6.835572957694268; total time=   0.7s\n",
      "[CV] END learning_rate=0.2, max_depth=7, n_estimators=100, scale_pos_weight=6.835572957694268; total time=   0.7s\n",
      "[CV] END learning_rate=0.2, max_depth=7, n_estimators=200, scale_pos_weight=1; total time=   1.3s\n",
      "[CV] END learning_rate=0.2, max_depth=7, n_estimators=200, scale_pos_weight=1; total time=   1.4s\n",
      "[CV] END learning_rate=0.2, max_depth=7, n_estimators=200, scale_pos_weight=1; total time=   1.3s\n",
      "[CV] END learning_rate=0.2, max_depth=7, n_estimators=200, scale_pos_weight=6.835572957694268; total time=   1.3s\n",
      "[CV] END learning_rate=0.2, max_depth=7, n_estimators=200, scale_pos_weight=6.835572957694268; total time=   1.3s\n",
      "[CV] END learning_rate=0.2, max_depth=7, n_estimators=200, scale_pos_weight=6.835572957694268; total time=   1.3s\n",
      "Accuracy of the model is: 0.786\n",
      "Recall score is : 94.21%\n",
      "F1-score is : 0.531\n"
     ]
    }
   ],
   "execution_count": 37
  },
  {
   "metadata": {
    "ExecuteTime": {
     "end_time": "2025-06-29T20:06:54.887619Z",
     "start_time": "2025-06-29T20:06:54.863305Z"
    }
   },
   "cell_type": "code",
   "source": [
    "precise = precision_score(y_test, y_pred)\n",
    "\n",
    "print(f\"Precision is: {precise:.2%}\")"
   ],
   "id": "30d201cf005924c5",
   "outputs": [
    {
     "name": "stdout",
     "output_type": "stream",
     "text": [
      "Precision is: 36.99%\n"
     ]
    }
   ],
   "execution_count": 38
  },
  {
   "metadata": {
    "ExecuteTime": {
     "end_time": "2025-06-29T20:06:54.932166Z",
     "start_time": "2025-06-29T20:06:54.904337Z"
    }
   },
   "cell_type": "code",
   "source": [
    "matrix = confusion_matrix(y_test, y_pred)\n",
    "\n",
    "print(matrix)"
   ],
   "id": "470425a3dc3e9ddc",
   "outputs": [
    {
     "name": "stdout",
     "output_type": "stream",
     "text": [
      "[[56231 17448]\n",
      " [  629 10242]]\n"
     ]
    }
   ],
   "execution_count": 39
  },
  {
   "metadata": {
    "ExecuteTime": {
     "end_time": "2025-06-29T20:06:55.341091Z",
     "start_time": "2025-06-29T20:06:54.945824Z"
    }
   },
   "cell_type": "code",
   "source": [
    "sns.heatmap(matrix, annot= True, fmt='d', cmap= 'Blues')\n",
    "\n",
    "plt.xlabel(\"Predicted Hazards\")\n",
    "plt.ylabel(\"Actual Hazards\")\n",
    "plt.title(\"Confusion Matrix\")\n",
    "\n",
    "plt.show()\n"
   ],
   "id": "4fd36852b87025ab",
   "outputs": [
    {
     "data": {
      "text/plain": [
       "<Figure size 640x480 with 2 Axes>"
      ],
      "image/png": "[encoded data removed]"
     },
     "metadata": {},
     "output_type": "display_data"
    }
   ],
   "execution_count": 40
  },
  {
   "metadata": {
    "ExecuteTime": {
     "end_time": "2025-06-29T19:58:53.479761Z",
     "start_time": "2025-06-29T19:58:49.708144Z"
    }
   },
   "cell_type": "code",
   "source": "space_data_v1.to_csv(\"Space Data.csv\", index=False)",
   "id": "c0f5bea41b3a913",
   "outputs": [],
   "execution_count": 26
  }
 ],
 "metadata": {
  "kernelspec": {
   "display_name": "Python 3",
   "language": "python",
   "name": "python3"
  },
  "language_info": {
   "codemirror_mode": {
    "name": "ipython",
    "version": 2
   },
   "file_extension": ".py",
   "mimetype": "text/x-python",
   "name": "python",
   "nbconvert_exporter": "python",
   "pygments_lexer": "ipython2",
   "version": "2.7.6"
  }
 },
 "nbformat": 4,
 "nbformat_minor": 5
}
